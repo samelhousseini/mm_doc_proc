{
 "cells": [
  {
   "cell_type": "code",
   "execution_count": 1,
   "metadata": {},
   "outputs": [],
   "source": [
    "%load_ext autoreload\n",
    "%autoreload 2\n",
    "\n",
    "import os\n",
    "from dotenv import load_dotenv\n",
    "load_dotenv()\n",
    "\n",
    "from pydantic import BaseModel\n",
    "from typing import List, Dict, Union\n",
    "import re\n",
    "import json\n",
    "\n",
    "\n",
    "import sys\n",
    "sys.path.append('multimodal_processing_pipeline')\n",
    "sys.path.append('search')\n",
    "\n",
    "from IPython.display import Markdown, display\n",
    "\n",
    "from utils.file_utils import * \n",
    "from utils.text_utils import *\n",
    "from utils.openai_utils import *\n",
    "from multimodal_processing_pipeline.data_models import *\n",
    "from multimodal_processing_pipeline.pipeline_utils import *\n",
    "from pdf_ingestion_pipeline import *"
   ]
  },
  {
   "cell_type": "code",
   "execution_count": null,
   "metadata": {},
   "outputs": [],
   "source": [
    "# Example usage:\n",
    "config = ProcessingPipelineConfiguration(\n",
    "    pdf_path = \"sample_data/1_London_Brochure.pdf\",\n",
    "    output_directory = \"output_test_8\"\n",
    ")\n",
    "\n",
    "config.multimodal_model = MulitmodalProcessingModelInfo(model_name=\"gpt-4o\")\n",
    "config.text_model = TextProcessingModelnfo(model_name=\"gpt-4o\")\n",
    "\n",
    "# Instantiate the pipeline\n",
    "pipeline = PDFIngestionPipeline(config)\n",
    "config.save_text_files = True\n",
    "config.generate_condensed_text = True\n",
    "config.generate_table_of_contents = True\n",
    "\n",
    "\n",
    "# Process the PDF\n",
    "document_content = pipeline.process_pdf() "
   ]
  },
  {
   "cell_type": "code",
   "execution_count": null,
   "metadata": {},
   "outputs": [],
   "source": [
    "# Example usage:\n",
    "config = ProcessingPipelineConfiguration(\n",
    "    pdf_path = \"sample_data/1_London_Brochure.pdf\",\n",
    ")\n",
    "\n",
    "config.multimodal_model = MulitmodalProcessingModelInfo(model_name=\"o1\", reasoning_efforts=\"high\"), \n",
    "config.text_model = TextProcessingModelnfo(model_name=\"o1\", reasoning_efforts=\"high\")\n",
    "config.save_text_files = True\n",
    "config.generate_condensed_text = False\n",
    "config.generate_table_of_contents = False\n",
    "\n",
    "# Instantiate the pipeline\n",
    "pipeline = PDFIngestionPipeline(config)\n",
    "\n",
    "# Process the PDF\n",
    "document_content = pipeline.process_pdf()  "
   ]
  },
  {
   "cell_type": "code",
   "execution_count": null,
   "metadata": {},
   "outputs": [],
   "source": [
    "pipeline.generate_table_of_contents(document_content)"
   ]
  },
  {
   "cell_type": "code",
   "execution_count": null,
   "metadata": {},
   "outputs": [],
   "source": [
    "display(Markdown(document_content.full_text))"
   ]
  },
  {
   "cell_type": "code",
   "execution_count": null,
   "metadata": {},
   "outputs": [],
   "source": [
    "display(Markdown(document_content.post_processing_content.table_of_contents.text))"
   ]
  },
  {
   "cell_type": "code",
   "execution_count": null,
   "metadata": {},
   "outputs": [],
   "source": [
    "get_token_count(document_content.full_text), get_token_count(document_content.post_processing_content.condensed_text.text)"
   ]
  },
  {
   "cell_type": "code",
   "execution_count": null,
   "metadata": {},
   "outputs": [],
   "source": [
    "console.print(document_content)"
   ]
  },
  {
   "cell_type": "code",
   "execution_count": null,
   "metadata": {},
   "outputs": [],
   "source": []
  }
 ],
 "metadata": {
  "kernelspec": {
   "display_name": "lightmmrag",
   "language": "python",
   "name": "python3"
  },
  "language_info": {
   "codemirror_mode": {
    "name": "ipython",
    "version": 3
   },
   "file_extension": ".py",
   "mimetype": "text/x-python",
   "name": "python",
   "nbconvert_exporter": "python",
   "pygments_lexer": "ipython3",
   "version": "3.11.11"
  }
 },
 "nbformat": 4,
 "nbformat_minor": 2
}
