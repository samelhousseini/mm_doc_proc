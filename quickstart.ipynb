{
 "cells": [
  {
   "cell_type": "code",
   "execution_count": 7,
   "metadata": {},
   "outputs": [
    {
     "name": "stdout",
     "output_type": "stream",
     "text": [
      "The autoreload extension is already loaded. To reload it, use:\n",
      "  %reload_ext autoreload\n"
     ]
    }
   ],
   "source": [
    "%load_ext autoreload\n",
    "%autoreload 2\n",
    "\n",
    "import os\n",
    "from dotenv import load_dotenv\n",
    "load_dotenv()\n",
    "\n",
    "from pydantic import BaseModel\n",
    "from typing import List, Dict, Union\n",
    "import re\n",
    "import json\n",
    "\n",
    "\n",
    "import sys\n",
    "sys.path.append('multimodal_processing_pipeline')\n",
    "sys.path.append('search')\n",
    "\n",
    "from IPython.display import Markdown, display\n",
    "\n",
    "from utils.file_utils import * \n",
    "from utils.text_utils import *\n",
    "from utils.openai_utils import *\n",
    "from utils.data_models import *\n",
    "from pdf_ingestion_pipeline import *"
   ]
  },
  {
   "cell_type": "code",
   "execution_count": 8,
   "metadata": {},
   "outputs": [
    {
     "name": "stdout",
     "output_type": "stream",
     "text": [
      "Processing page 1/2...\n",
      "Reading file from path: c:\\Users\\selhousseini\\Documents\\GitHub\\mm_doc_proc\\multimodal_processing_pipeline\\prompts\\process_extracted_text_prompt.txt\n"
     ]
    },
    {
     "data": {
      "text/html": [
       "<pre style=\"white-space:pre;overflow-x:auto;line-height:normal;font-family:Menlo,'DejaVu Sans Mono',consolas,'Courier New',monospace\"><span style=\"color: #800080; text-decoration-color: #800080; font-weight: bold\">Extracted Processed Text:</span> Margie’s Travel Presents…  \n",
       "London  \n",
       "\n",
       "London is the capital and most populous city of England and the United Kingdom. Standing on the River Thames in the\n",
       "south east of the island of Great Britain, London has been a major settlement for two millennia. It was founded by \n",
       "the Romans, who named it Londinium. London's ancient core, the City of London, largely retains its <span style=\"color: #008080; text-decoration-color: #008080; font-weight: bold\">1.12</span>-square-mile\n",
       "medieval boundaries. Since at least the 19th century, London has also referred to the metropolis around this core, \n",
       "historically split between Middlesex, Essex, Surrey, Kent, and Hertfordshire, which today largely makes up Greater \n",
       "London, governed by the Mayor of London and the London Assembly.  \n",
       "\n",
       "Mostly popular for: Leisure, Outdoors, Historical, Arts &amp; Culture  \n",
       "Best time to visit: Jun-Aug  \n",
       "Averag Precipitation: <span style=\"color: #008080; text-decoration-color: #008080; font-weight: bold\">1.9</span> in  \n",
       "Average Temperature: <span style=\"color: #008080; text-decoration-color: #008080; font-weight: bold\">56</span>-<span style=\"color: #008080; text-decoration-color: #008080; font-weight: bold\">67</span>°F  \n",
       "\n",
       "London Hotels  \n",
       "\n",
       "Margie’s Travel offers the following accommodation options in London:  \n",
       "\n",
       "The Buckingham Hotel Comfortable hotel close to major sights like Buckingham Palace, Regent’s Park, and Trafalgar \n",
       "Square.  \n",
       "\n",
       "The City Hotel Luxury rooms in the city, within walking distance of Tower Bridge and the Tower of London..  \n",
       "\n",
       "The Kensington Hotel Budget accommodation near Earl’s Court.  \n",
       "\n",
       "To book your trip to London, visit www.margiestravel.com  \n",
       "</pre>\n"
      ],
      "text/plain": [
       "\u001b[1;35mExtracted Processed Text:\u001b[0m Margie’s Travel Presents…  \n",
       "London  \n",
       "\n",
       "London is the capital and most populous city of England and the United Kingdom. Standing on the River Thames in the\n",
       "south east of the island of Great Britain, London has been a major settlement for two millennia. It was founded by \n",
       "the Romans, who named it Londinium. London's ancient core, the City of London, largely retains its \u001b[1;36m1.12\u001b[0m-square-mile\n",
       "medieval boundaries. Since at least the 19th century, London has also referred to the metropolis around this core, \n",
       "historically split between Middlesex, Essex, Surrey, Kent, and Hertfordshire, which today largely makes up Greater \n",
       "London, governed by the Mayor of London and the London Assembly.  \n",
       "\n",
       "Mostly popular for: Leisure, Outdoors, Historical, Arts & Culture  \n",
       "Best time to visit: Jun-Aug  \n",
       "Averag Precipitation: \u001b[1;36m1.9\u001b[0m in  \n",
       "Average Temperature: \u001b[1;36m56\u001b[0m-\u001b[1;36m67\u001b[0m°F  \n",
       "\n",
       "London Hotels  \n",
       "\n",
       "Margie’s Travel offers the following accommodation options in London:  \n",
       "\n",
       "The Buckingham Hotel Comfortable hotel close to major sights like Buckingham Palace, Regent’s Park, and Trafalgar \n",
       "Square.  \n",
       "\n",
       "The City Hotel Luxury rooms in the city, within walking distance of Tower Bridge and the Tower of London..  \n",
       "\n",
       "The Kensington Hotel Budget accommodation near Earl’s Court.  \n",
       "\n",
       "To book your trip to London, visit www.margiestravel.com  \n"
      ]
     },
     "metadata": {},
     "output_type": "display_data"
    },
    {
     "name": "stdout",
     "output_type": "stream",
     "text": [
      "Writing file to full path: c:\\Users\\selhousseini\\Documents\\GitHub\\mm_doc_proc\\output_o1\\text\\page_1.txt\n",
      "Reading file from path: c:\\Users\\selhousseini\\Documents\\GitHub\\mm_doc_proc\\multimodal_processing_pipeline\\prompts\\image_description_prompt.txt\n",
      "Writing file to full path: c:\\Users\\selhousseini\\Documents\\GitHub\\mm_doc_proc\\output_o1\\images\\page_1_image_1.txt\n",
      "Writing file to full path: c:\\Users\\selhousseini\\Documents\\GitHub\\mm_doc_proc\\output_o1\\images\\page_1_image_2.txt\n"
     ]
    },
    {
     "data": {
      "text/html": [
       "<pre style=\"white-space:pre;overflow-x:auto;line-height:normal;font-family:Menlo,'DejaVu Sans Mono',consolas,'Courier New',monospace\"><span style=\"color: #008080; text-decoration-color: #008080; font-weight: bold\">Extracted Images:</span>\n",
       "<span style=\"font-weight: bold\">[</span>\n",
       "    <span style=\"color: #800080; text-decoration-color: #800080; font-weight: bold\">ExtractedImage</span><span style=\"font-weight: bold\">(</span>\n",
       "        <span style=\"color: #808000; text-decoration-color: #808000\">page_number</span>=<span style=\"color: #008080; text-decoration-color: #008080; font-weight: bold\">1</span>,\n",
       "        <span style=\"color: #808000; text-decoration-color: #808000\">image_path</span>=<span style=\"color: #800080; text-decoration-color: #800080; font-weight: bold\">WindowsPath</span><span style=\"font-weight: bold\">(</span><span style=\"color: #008000; text-decoration-color: #008000\">'output_o1/images/page_1.png'</span><span style=\"font-weight: bold\">)</span>,\n",
       "        <span style=\"color: #808000; text-decoration-color: #808000\">image_type</span>=<span style=\"color: #008000; text-decoration-color: #008000\">'photo'</span>,\n",
       "        <span style=\"color: #808000; text-decoration-color: #808000\">description</span>=<span style=\"color: #008000; text-decoration-color: #008000\">'This is a photograph showing Tower Bridge across the River Thames with its bascules raised. </span>\n",
       "<span style=\"color: #008000; text-decoration-color: #008000\">The bridge features tall stone towers and blue metal walkways set against a cloudy sky. The water beneath appears </span>\n",
       "<span style=\"color: #008000; text-decoration-color: #008000\">murky brown.\\n\\nLikely included to highlight a famous London landmark in a travel or tourism context.\\n\\nThe image </span>\n",
       "<span style=\"color: #008000; text-decoration-color: #008000\">emphasizes the iconic design of Tower Bridge and its drawbridge mechanism, showcasing a key attraction for </span>\n",
       "<span style=\"color: #008000; text-decoration-color: #008000\">visitors.'</span>\n",
       "    <span style=\"font-weight: bold\">)</span>,\n",
       "    <span style=\"color: #800080; text-decoration-color: #800080; font-weight: bold\">ExtractedImage</span><span style=\"font-weight: bold\">(</span>\n",
       "        <span style=\"color: #808000; text-decoration-color: #808000\">page_number</span>=<span style=\"color: #008080; text-decoration-color: #008080; font-weight: bold\">1</span>,\n",
       "        <span style=\"color: #808000; text-decoration-color: #808000\">image_path</span>=<span style=\"color: #800080; text-decoration-color: #800080; font-weight: bold\">WindowsPath</span><span style=\"font-weight: bold\">(</span><span style=\"color: #008000; text-decoration-color: #008000\">'output_o1/images/page_1.png'</span><span style=\"font-weight: bold\">)</span>,\n",
       "        <span style=\"color: #808000; text-decoration-color: #808000\">image_type</span>=<span style=\"color: #008000; text-decoration-color: #008000\">'photo'</span>,\n",
       "        <span style=\"color: #808000; text-decoration-color: #808000\">description</span>=<span style=\"color: #008000; text-decoration-color: #008000\">'This is a photograph of the fountains in Trafalgar Square. Water cascades from a large central</span>\n",
       "<span style=\"color: #008000; text-decoration-color: #008000\">fountain, surrounded by statues and historic buildings in the background.\\n\\nLikely included to portray another </span>\n",
       "<span style=\"color: #008000; text-decoration-color: #008000\">prominent tourist spot in London related to the travel theme.\\n\\nThe fountain and statues illustrate a bustling </span>\n",
       "<span style=\"color: #008000; text-decoration-color: #008000\">public square, hinting at the city’s cultural and historical significance.'</span>\n",
       "    <span style=\"font-weight: bold\">)</span>\n",
       "<span style=\"font-weight: bold\">]</span>\n",
       "</pre>\n"
      ],
      "text/plain": [
       "\u001b[1;36mExtracted Images:\u001b[0m\n",
       "\u001b[1m[\u001b[0m\n",
       "    \u001b[1;35mExtractedImage\u001b[0m\u001b[1m(\u001b[0m\n",
       "        \u001b[33mpage_number\u001b[0m=\u001b[1;36m1\u001b[0m,\n",
       "        \u001b[33mimage_path\u001b[0m=\u001b[1;35mWindowsPath\u001b[0m\u001b[1m(\u001b[0m\u001b[32m'output_o1/images/page_1.png'\u001b[0m\u001b[1m)\u001b[0m,\n",
       "        \u001b[33mimage_type\u001b[0m=\u001b[32m'photo'\u001b[0m,\n",
       "        \u001b[33mdescription\u001b[0m=\u001b[32m'This is a photograph showing Tower Bridge across the River Thames with its bascules raised. \u001b[0m\n",
       "\u001b[32mThe bridge features tall stone towers and blue metal walkways set against a cloudy sky. The water beneath appears \u001b[0m\n",
       "\u001b[32mmurky brown.\\n\\nLikely included to highlight a famous London landmark in a travel or tourism context.\\n\\nThe image \u001b[0m\n",
       "\u001b[32memphasizes the iconic design of Tower Bridge and its drawbridge mechanism, showcasing a key attraction for \u001b[0m\n",
       "\u001b[32mvisitors.'\u001b[0m\n",
       "    \u001b[1m)\u001b[0m,\n",
       "    \u001b[1;35mExtractedImage\u001b[0m\u001b[1m(\u001b[0m\n",
       "        \u001b[33mpage_number\u001b[0m=\u001b[1;36m1\u001b[0m,\n",
       "        \u001b[33mimage_path\u001b[0m=\u001b[1;35mWindowsPath\u001b[0m\u001b[1m(\u001b[0m\u001b[32m'output_o1/images/page_1.png'\u001b[0m\u001b[1m)\u001b[0m,\n",
       "        \u001b[33mimage_type\u001b[0m=\u001b[32m'photo'\u001b[0m,\n",
       "        \u001b[33mdescription\u001b[0m=\u001b[32m'This is a photograph of the fountains in Trafalgar Square. Water cascades from a large central\u001b[0m\n",
       "\u001b[32mfountain, surrounded by statues and historic buildings in the background.\\n\\nLikely included to portray another \u001b[0m\n",
       "\u001b[32mprominent tourist spot in London related to the travel theme.\\n\\nThe fountain and statues illustrate a bustling \u001b[0m\n",
       "\u001b[32mpublic square, hinting at the city’s cultural and historical significance.'\u001b[0m\n",
       "    \u001b[1m)\u001b[0m\n",
       "\u001b[1m]\u001b[0m\n"
      ]
     },
     "metadata": {},
     "output_type": "display_data"
    },
    {
     "name": "stdout",
     "output_type": "stream",
     "text": [
      "Reading file from path: c:\\Users\\selhousseini\\Documents\\GitHub\\mm_doc_proc\\multimodal_processing_pipeline\\prompts\\table_description_prompt.txt\n"
     ]
    },
    {
     "data": {
      "text/html": [
       "<pre style=\"white-space:pre;overflow-x:auto;line-height:normal;font-family:Menlo,'DejaVu Sans Mono',consolas,'Courier New',monospace\"><span style=\"color: #008000; text-decoration-color: #008000; font-weight: bold\">Extracted Tables:</span>\n",
       "<span style=\"font-weight: bold\">[]</span>\n",
       "</pre>\n"
      ],
      "text/plain": [
       "\u001b[1;32mExtracted Tables:\u001b[0m\n",
       "\u001b[1m[\u001b[0m\u001b[1m]\u001b[0m\n"
      ]
     },
     "metadata": {},
     "output_type": "display_data"
    },
    {
     "name": "stdout",
     "output_type": "stream",
     "text": [
      "Processing page 2/2...\n",
      "Reading file from path: c:\\Users\\selhousseini\\Documents\\GitHub\\mm_doc_proc\\multimodal_processing_pipeline\\prompts\\process_extracted_text_prompt.txt\n"
     ]
    },
    {
     "data": {
      "text/html": [
       "<pre style=\"white-space:pre;overflow-x:auto;line-height:normal;font-family:Menlo,'DejaVu Sans Mono',consolas,'Courier New',monospace\"><span style=\"color: #800080; text-decoration-color: #800080; font-weight: bold\">Extracted Processed Text:</span> | Category                   | Information                                           |\n",
       "|----------------------------|-------------------------------------------------------|\n",
       "| Country                    | United Kingdom                                       |\n",
       "| Capital Of                 | England                                              |\n",
       "| Currency                   | Pound Sterling <span style=\"font-weight: bold\">(</span>GBP<span style=\"font-weight: bold\">)</span>                                 |\n",
       "| Population <span style=\"font-weight: bold\">(</span><span style=\"color: #008080; text-decoration-color: #008080; font-weight: bold\">2021</span> census<span style=\"font-weight: bold\">)</span>   | Approximately <span style=\"color: #008080; text-decoration-color: #008080; font-weight: bold\">8.8</span> million                            |\n",
       "| Famous For                 | Historical landmarks, museums, cultural diversity    |\n",
       "</pre>\n"
      ],
      "text/plain": [
       "\u001b[1;35mExtracted Processed Text:\u001b[0m | Category                   | Information                                           |\n",
       "|----------------------------|-------------------------------------------------------|\n",
       "| Country                    | United Kingdom                                       |\n",
       "| Capital Of                 | England                                              |\n",
       "| Currency                   | Pound Sterling \u001b[1m(\u001b[0mGBP\u001b[1m)\u001b[0m                                 |\n",
       "| Population \u001b[1m(\u001b[0m\u001b[1;36m2021\u001b[0m census\u001b[1m)\u001b[0m   | Approximately \u001b[1;36m8.8\u001b[0m million                            |\n",
       "| Famous For                 | Historical landmarks, museums, cultural diversity    |\n"
      ]
     },
     "metadata": {},
     "output_type": "display_data"
    },
    {
     "name": "stdout",
     "output_type": "stream",
     "text": [
      "Writing file to full path: c:\\Users\\selhousseini\\Documents\\GitHub\\mm_doc_proc\\output_o1\\text\\page_2.txt\n",
      "Reading file from path: c:\\Users\\selhousseini\\Documents\\GitHub\\mm_doc_proc\\multimodal_processing_pipeline\\prompts\\image_description_prompt.txt\n"
     ]
    },
    {
     "data": {
      "text/html": [
       "<pre style=\"white-space:pre;overflow-x:auto;line-height:normal;font-family:Menlo,'DejaVu Sans Mono',consolas,'Courier New',monospace\"><span style=\"color: #008080; text-decoration-color: #008080; font-weight: bold\">Extracted Images:</span>\n",
       "<span style=\"font-weight: bold\">[]</span>\n",
       "</pre>\n"
      ],
      "text/plain": [
       "\u001b[1;36mExtracted Images:\u001b[0m\n",
       "\u001b[1m[\u001b[0m\u001b[1m]\u001b[0m\n"
      ]
     },
     "metadata": {},
     "output_type": "display_data"
    },
    {
     "name": "stdout",
     "output_type": "stream",
     "text": [
      "Reading file from path: c:\\Users\\selhousseini\\Documents\\GitHub\\mm_doc_proc\\multimodal_processing_pipeline\\prompts\\table_description_prompt.txt\n",
      "Writing file to full path: c:\\Users\\selhousseini\\Documents\\GitHub\\mm_doc_proc\\output_o1\\tables\\page_2_table_1.txt\n"
     ]
    },
    {
     "data": {
      "text/html": [
       "<pre style=\"white-space:pre;overflow-x:auto;line-height:normal;font-family:Menlo,'DejaVu Sans Mono',consolas,'Courier New',monospace\"><span style=\"color: #008000; text-decoration-color: #008000; font-weight: bold\">Extracted Tables:</span>\n",
       "<span style=\"font-weight: bold\">[</span>\n",
       "    <span style=\"color: #800080; text-decoration-color: #800080; font-weight: bold\">ExtractedTable</span><span style=\"font-weight: bold\">(</span>\n",
       "        <span style=\"color: #808000; text-decoration-color: #808000\">page_number</span>=<span style=\"color: #008080; text-decoration-color: #008080; font-weight: bold\">2</span>,\n",
       "        <span style=\"color: #808000; text-decoration-color: #808000\">table_content</span>=<span style=\"color: #008000; text-decoration-color: #008000\">'| Category                 | Information                                     </span>\n",
       "<span style=\"color: #008000; text-decoration-color: #008000\">|\\n|--------------------------|-------------------------------------------------|\\n| Country                  | </span>\n",
       "<span style=\"color: #008000; text-decoration-color: #008000\">United Kingdom                                  |\\n| Capital Of               | England                            </span>\n",
       "<span style=\"color: #008000; text-decoration-color: #008000\">|\\n| Currency                 | Pound Sterling (GBP)                            |\\n| Population (2021 census) | </span>\n",
       "<span style=\"color: #008000; text-decoration-color: #008000\">Approximately 8.8 million                       |\\n| Famous For               | Historical landmarks, museums, </span>\n",
       "<span style=\"color: #008000; text-decoration-color: #008000\">cultural diversity|\\n'</span>,\n",
       "        <span style=\"color: #808000; text-decoration-color: #808000\">summary</span>=<span style=\"color: #008000; text-decoration-color: #008000\">\"Provides a quick reference of key facts about a major city or location, likely supporting a </span>\n",
       "<span style=\"color: #008000; text-decoration-color: #008000\">broader descriptive text.\\n\\nPurpose: Displays essential attributes (country, capital, currency, population, </span>\n",
       "<span style=\"color: #008000; text-decoration-color: #008000\">notable features) about a place. Column-Level: 'Category' (text labels for each fact) and 'Information' (text </span>\n",
       "<span style=\"color: #008000; text-decoration-color: #008000\">details). Row-Level: Each row presents a distinct data point; no numerical comparison or outlier. Helps readers </span>\n",
       "<span style=\"color: #008000; text-decoration-color: #008000\">quickly identify core characteristics.\"</span>\n",
       "    <span style=\"font-weight: bold\">)</span>\n",
       "<span style=\"font-weight: bold\">]</span>\n",
       "</pre>\n"
      ],
      "text/plain": [
       "\u001b[1;32mExtracted Tables:\u001b[0m\n",
       "\u001b[1m[\u001b[0m\n",
       "    \u001b[1;35mExtractedTable\u001b[0m\u001b[1m(\u001b[0m\n",
       "        \u001b[33mpage_number\u001b[0m=\u001b[1;36m2\u001b[0m,\n",
       "        \u001b[33mtable_content\u001b[0m=\u001b[32m'| Category                 | Information                                     \u001b[0m\n",
       "\u001b[32m|\\n|--------------------------|-------------------------------------------------|\\n| Country                  | \u001b[0m\n",
       "\u001b[32mUnited Kingdom                                  |\\n| Capital Of               | England                            \u001b[0m\n",
       "\u001b[32m|\\n| Currency                 | Pound Sterling \u001b[0m\u001b[32m(\u001b[0m\u001b[32mGBP\u001b[0m\u001b[32m)\u001b[0m\u001b[32m                            |\\n| Population \u001b[0m\u001b[32m(\u001b[0m\u001b[32m2021 census\u001b[0m\u001b[32m)\u001b[0m\u001b[32m | \u001b[0m\n",
       "\u001b[32mApproximately 8.8 million                       |\\n| Famous For               | Historical landmarks, museums, \u001b[0m\n",
       "\u001b[32mcultural diversity|\\n'\u001b[0m,\n",
       "        \u001b[33msummary\u001b[0m=\u001b[32m\"Provides\u001b[0m\u001b[32m a quick reference of key facts about a major city or location, likely supporting a \u001b[0m\n",
       "\u001b[32mbroader descriptive text.\\n\\nPurpose: Displays essential attributes \u001b[0m\u001b[32m(\u001b[0m\u001b[32mcountry, capital, currency, population, \u001b[0m\n",
       "\u001b[32mnotable features\u001b[0m\u001b[32m)\u001b[0m\u001b[32m about a place. Column-Level: 'Category' \u001b[0m\u001b[32m(\u001b[0m\u001b[32mtext labels for each fact\u001b[0m\u001b[32m)\u001b[0m\u001b[32m and 'Information' \u001b[0m\u001b[32m(\u001b[0m\u001b[32mtext \u001b[0m\n",
       "\u001b[32mdetails\u001b[0m\u001b[32m)\u001b[0m\u001b[32m. Row-Level: Each row presents a distinct data point; no numerical comparison or outlier. Helps readers \u001b[0m\n",
       "\u001b[32mquickly identify core characteristics.\"\u001b[0m\n",
       "    \u001b[1m)\u001b[0m\n",
       "\u001b[1m]\u001b[0m\n"
      ]
     },
     "metadata": {},
     "output_type": "display_data"
    },
    {
     "name": "stdout",
     "output_type": "stream",
     "text": [
      "Writing file to full path: c:\\Users\\selhousseini\\Documents\\GitHub\\mm_doc_proc\\output_o1\\combined\\page_1_twin.txt\n",
      "Page 1 text twin saved at: output_o1\\combined\\page_1_twin.txt\n",
      "Writing file to full path: c:\\Users\\selhousseini\\Documents\\GitHub\\mm_doc_proc\\output_o1\\combined\\page_2_twin.txt\n",
      "Page 2 text twin saved at: output_o1\\combined\\page_2_twin.txt\n",
      "Writing file to full path: c:\\Users\\selhousseini\\Documents\\GitHub\\mm_doc_proc\\output_o1\\combined\\text_twin.md\n",
      "Text twin saved at: output_o1\\combined\\text_twin.md\n",
      "Reading file from path: c:\\Users\\selhousseini\\Documents\\GitHub\\mm_doc_proc\\multimodal_processing_pipeline\\prompts\\document_condensation_prompt.txt\n",
      "Writing file to full path: c:\\Users\\selhousseini\\Documents\\GitHub\\mm_doc_proc\\output_o1\\combined\\page_1_condensed.md\n",
      "Page 1 condensed text saved at: output_o1\\combined\\page_1_condensed.md\n",
      "Reading file from path: c:\\Users\\selhousseini\\Documents\\GitHub\\mm_doc_proc\\multimodal_processing_pipeline\\prompts\\document_condensation_prompt.txt\n",
      "Writing file to full path: c:\\Users\\selhousseini\\Documents\\GitHub\\mm_doc_proc\\output_o1\\combined\\page_2_condensed.md\n",
      "Page 2 condensed text saved at: output_o1\\combined\\page_2_condensed.md\n",
      "Reading file from path: c:\\Users\\selhousseini\\Documents\\GitHub\\mm_doc_proc\\multimodal_processing_pipeline\\prompts\\document_condensation_prompt.txt\n",
      "Writing file to full path: c:\\Users\\selhousseini\\Documents\\GitHub\\mm_doc_proc\\output_o1\\combined\\condensed_text.md\n",
      "Condensed text saved at: output_o1\\combined\\condensed_text.md\n"
     ]
    }
   ],
   "source": [
    "# Example usage:\n",
    "pdf_path = \"sample_data/1_London_Brochure.pdf\"\n",
    "output_directory = \"output_o1\"\n",
    "\n",
    "pipeline = PDFIngestionPipeline(\n",
    "    pdf_path=pdf_path, \n",
    "    output_directory=output_directory, \n",
    "    multimodal_model=MulitmodalProcessingModelName(model_name=\"o1\", reasoning_efforts=\"high\"), \n",
    "    text_model=TextProcessingModelName(model_name=\"o1\", reasoning_efforts=\"high\")\n",
    ")\n",
    "\n",
    "# Process the PDF\n",
    "document_content = pipeline.process_pdf()\n",
    "\n",
    "# Save text twins\n",
    "for page in document_content.pages:\n",
    "    pipeline.save_page_text_twin(page)\n",
    "\n",
    "pipeline.save_text_twin(document_content)    \n",
    "\n",
    "\n",
    "# Condense text twins\n",
    "for page in document_content.pages:\n",
    "    pipeline.condense_page_text(page)\n",
    "\n",
    "pipeline.condense_text(document_content)    \n",
    "\n"
   ]
  },
  {
   "cell_type": "code",
   "execution_count": 9,
   "metadata": {},
   "outputs": [
    {
     "data": {
      "text/markdown": [
       "##### --- Page 1 ---\n",
       "\n",
       "# Extracted Text\n",
       "\n",
       "Margie’s Travel Presents…  \n",
       "London  \n",
       "\n",
       "London is the capital and most populous city of England and the United Kingdom. Standing on the River Thames in the south east of the island of Great Britain, London has been a major settlement for two millennia. It was founded by the Romans, who named it Londinium. London's ancient core, the City of London, largely retains its 1.12-square-mile medieval boundaries. Since at least the 19th century, London has also referred to the metropolis around this core, historically split between Middlesex, Essex, Surrey, Kent, and Hertfordshire, which today largely makes up Greater London, governed by the Mayor of London and the London Assembly.  \n",
       "\n",
       "Mostly popular for: Leisure, Outdoors, Historical, Arts & Culture  \n",
       "Best time to visit: Jun-Aug  \n",
       "Averag Precipitation: 1.9 in  \n",
       "Average Temperature: 56-67°F  \n",
       "\n",
       "London Hotels  \n",
       "\n",
       "Margie’s Travel offers the following accommodation options in London:  \n",
       "\n",
       "The Buckingham Hotel Comfortable hotel close to major sights like Buckingham Palace, Regent’s Park, and Trafalgar Square.  \n",
       "\n",
       "The City Hotel Luxury rooms in the city, within walking distance of Tower Bridge and the Tower of London..  \n",
       "\n",
       "The Kensington Hotel Budget accommodation near Earl’s Court.  \n",
       "\n",
       "To book your trip to London, visit www.margiestravel.com  \n",
       "\n",
       "\n",
       "# Embedded Images:\n",
       "\n",
       "### - Image 0:\n",
       "This is a photograph showing Tower Bridge across the River Thames with its bascules raised. The bridge features tall stone towers and blue metal walkways set against a cloudy sky. The water beneath appears murky brown.\n",
       "\n",
       "Likely included to highlight a famous London landmark in a travel or tourism context.\n",
       "\n",
       "The image emphasizes the iconic design of Tower Bridge and its drawbridge mechanism, showcasing a key attraction for visitors.\n",
       "\n",
       "### - Image 1:\n",
       "This is a photograph of the fountains in Trafalgar Square. Water cascades from a large central fountain, surrounded by statues and historic buildings in the background.\n",
       "\n",
       "Likely included to portray another prominent tourist spot in London related to the travel theme.\n",
       "\n",
       "The fountain and statues illustrate a bustling public square, hinting at the city’s cultural and historical significance.\n",
       "\n",
       "<br/>\n",
       "<br/>\n",
       "<img src=\"output_o1\\images\\page_1.png\" alt=\"Page Number 1\" width=\"300\" height=\"425\">\n",
       "\n",
       "\n",
       "\n",
       "\n",
       "##### --- Page 2 ---\n",
       "\n",
       "# Extracted Text\n",
       "\n",
       "| Category                   | Information                                           |\n",
       "|----------------------------|-------------------------------------------------------|\n",
       "| Country                    | United Kingdom                                       |\n",
       "| Capital Of                 | England                                              |\n",
       "| Currency                   | Pound Sterling (GBP)                                 |\n",
       "| Population (2021 census)   | Approximately 8.8 million                            |\n",
       "| Famous For                 | Historical landmarks, museums, cultural diversity    |\n",
       "\n",
       "\n",
       "# Tables:\n",
       "\n",
       "### - Table 0:\n",
       "\n",
       "| Category                 | Information                                     |\n",
       "|--------------------------|-------------------------------------------------|\n",
       "| Country                  | United Kingdom                                  |\n",
       "| Capital Of               | England                                         |\n",
       "| Currency                 | Pound Sterling (GBP)                            |\n",
       "| Population (2021 census) | Approximately 8.8 million                       |\n",
       "| Famous For               | Historical landmarks, museums, cultural diversity|\n",
       "\n",
       "\n",
       "<br/>\n",
       "<br/>\n",
       "<img src=\"output_o1\\images\\page_2.png\" alt=\"Page Number 2\" width=\"300\" height=\"425\">\n",
       "\n",
       "\n",
       "\n"
      ],
      "text/plain": [
       "<IPython.core.display.Markdown object>"
      ]
     },
     "metadata": {},
     "output_type": "display_data"
    }
   ],
   "source": [
    "display(Markdown(document_content.full_text))"
   ]
  },
  {
   "cell_type": "code",
   "execution_count": 10,
   "metadata": {},
   "outputs": [
    {
     "data": {
      "text/markdown": [
       "Margie’s Travel Presents… London\n",
       "\n",
       "London is the capital and most populous city of England and the United Kingdom, standing on the River Thames in the southeast of Great Britain. It has been a major settlement for two millennia and was founded by the Romans, who named it Londinium. London’s ancient core, the City of London, largely retains its 1.12‑square‑mile medieval boundaries. Since at least the 19th century, “London” has also referred to the metropolis around this core—historically split among Middlesex, Essex, Surrey, Kent, and Hertfordshire—which today largely makes up Greater London, governed by the Mayor of London and the London Assembly.\n",
       "\n",
       "Mostly popular for: Leisure, Outdoors, Historical, Arts & Culture  \n",
       "Best time to visit: Jun–Aug  \n",
       "Average Precipitation: 1.9 in  \n",
       "Average Temperature: 56–67°F  \n",
       "\n",
       "London Hotels  \n",
       "Margie’s Travel offers the following accommodation options in London:  \n",
       "• The Buckingham Hotel: Comfortable hotel near Buckingham Palace, Regent’s Park, and Trafalgar Square.  \n",
       "• The City Hotel: Luxury rooms within walking distance of Tower Bridge and the Tower of London.  \n",
       "• The Kensington Hotel: Budget accommodation near Earl’s Court.  \n",
       "\n",
       "To book your trip to London, visit www.margiestravel.com  \n",
       "\n",
       "Embedded Images  \n",
       "• Image 0: Photograph showing Tower Bridge across the River Thames with its bascules raised; the bridge features tall stone towers and blue metal walkways beneath a cloudy sky, with murky brown water below.  \n",
       "• Image 1: Photograph of the fountains in Trafalgar Square, where water cascades from a large central fountain, surrounded by statues and historic buildings.  \n",
       "\n",
       "Additional Information (Page 2)  \n",
       "• Country: United Kingdom  \n",
       "• Capital Of: England  \n",
       "• Currency: Pound Sterling (GBP)  \n",
       "• Population (2021 census): Approximately 8.8 million  \n",
       "• Famous For: Historical landmarks, museums, cultural diversity  "
      ],
      "text/plain": [
       "<IPython.core.display.Markdown object>"
      ]
     },
     "metadata": {},
     "output_type": "display_data"
    }
   ],
   "source": [
    "display(Markdown(document_content.condensed_full_text))"
   ]
  },
  {
   "cell_type": "code",
   "execution_count": 11,
   "metadata": {},
   "outputs": [
    {
     "data": {
      "text/plain": [
       "(684, 402)"
      ]
     },
     "execution_count": 11,
     "metadata": {},
     "output_type": "execute_result"
    }
   ],
   "source": [
    "get_token_count(document_content.full_text), get_token_count(document_content.condensed_full_text)"
   ]
  }
 ],
 "metadata": {
  "kernelspec": {
   "display_name": "lightmmrag",
   "language": "python",
   "name": "python3"
  },
  "language_info": {
   "codemirror_mode": {
    "name": "ipython",
    "version": 3
   },
   "file_extension": ".py",
   "mimetype": "text/x-python",
   "name": "python",
   "nbconvert_exporter": "python",
   "pygments_lexer": "ipython3",
   "version": "3.11.11"
  }
 },
 "nbformat": 4,
 "nbformat_minor": 2
}
