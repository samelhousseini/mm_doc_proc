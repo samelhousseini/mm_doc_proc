{
 "cells": [
  {
   "cell_type": "code",
   "execution_count": 1,
   "metadata": {},
   "outputs": [],
   "source": [
    "%load_ext autoreload\n",
    "%autoreload 2\n",
    "\n",
    "import os\n",
    "from dotenv import load_dotenv\n",
    "load_dotenv()\n",
    "\n",
    "from pydantic import BaseModel\n",
    "from typing import List, Dict, Union\n",
    "import re\n",
    "import json\n",
    "\n",
    "\n",
    "import sys\n",
    "sys.path.append('multimodal_processing_pipeline')\n",
    "sys.path.append('search')\n",
    "\n",
    "from IPython.display import Markdown, display\n",
    "\n",
    "from utils.file_utils import * \n",
    "from utils.text_utils import *\n",
    "from utils.openai_utils import *\n",
    "from utils.data_models import *\n",
    "from pdf_ingestion_pipeline import *"
   ]
  },
  {
   "cell_type": "code",
   "execution_count": 4,
   "metadata": {},
   "outputs": [],
   "source": [
    "def process_document(pdf_path, \n",
    "                     output_directory, \n",
    "                     multimodal_model = MulitmodalProcessingModelInfo(model_name=\"o1\", reasoning_efforts=\"high\"), \n",
    "                     text_model=TextProcessingModelnfo(model_name=\"o1\", reasoning_efforts=\"high\")\n",
    "                     ):\n",
    "    pipeline = PDFIngestionPipeline(\n",
    "        pdf_path=pdf_path, \n",
    "        output_directory=output_directory, \n",
    "        multimodal_model=multimodal_model, \n",
    "        text_model=text_model\n",
    "    )\n",
    "\n",
    "    # Process the PDF\n",
    "    document_content = pipeline.process_pdf()\n",
    "\n",
    "    # Save text twins\n",
    "    for page in document_content.pages:\n",
    "        pipeline.save_page_text_twin(page)\n",
    "\n",
    "    pipeline.save_text_twin(document_content)    \n",
    "\n",
    "\n",
    "    # Condense text twins\n",
    "    for page in document_content.pages:\n",
    "        pipeline.condense_page_text(page)\n",
    "\n",
    "    pipeline.condense_text(document_content)    \n",
    "\n",
    "    return document_content"
   ]
  },
  {
   "cell_type": "code",
   "execution_count": 5,
   "metadata": {},
   "outputs": [
    {
     "name": "stdout",
     "output_type": "stream",
     "text": [
      "Processing page 1/2...\n",
      "Reading file from path: c:\\Users\\selhousseini\\Documents\\GitHub\\mm_doc_proc\\multimodal_processing_pipeline\\prompts\\process_extracted_text_prompt.txt\n"
     ]
    },
    {
     "data": {
      "text/html": [
       "<pre style=\"white-space:pre;overflow-x:auto;line-height:normal;font-family:Menlo,'DejaVu Sans Mono',consolas,'Courier New',monospace\"><span style=\"color: #800080; text-decoration-color: #800080; font-weight: bold\">Extracted Processed Text:</span> ## Margie’s Travel Presents… London\n",
       "\n",
       "### About London\n",
       "London is the capital and most populous city of England and the United Kingdom. Standing on the River Thames in the\n",
       "southeast of the island of Great Britain, London has been a major settlement for two millennia. It was founded by \n",
       "the Romans, who named it Londinium.\n",
       "\n",
       "London's ancient core, the City of London, largely retains its <span style=\"color: #008080; text-decoration-color: #008080; font-weight: bold\">1.12</span>-square-mile medieval boundaries. Since at least\n",
       "the 19th century, London has also referred to the metropolis around this core, historically split between \n",
       "Middlesex, Essex, Surrey, Kent, and Hertfordshire, which today largely makes up Greater London, governed by the \n",
       "Mayor of London and the London Assembly.\n",
       "\n",
       "### Highlights\n",
       "- **Mostly popular for:** Leisure, Outdoors, Historical, Arts &amp; Culture  \n",
       "- **Best time to visit:** June - August  \n",
       "- **Average Precipitation:** <span style=\"color: #008080; text-decoration-color: #008080; font-weight: bold\">1.9</span> inches  \n",
       "- **Average Temperature:** <span style=\"color: #008080; text-decoration-color: #008080; font-weight: bold\">56</span>-<span style=\"color: #008080; text-decoration-color: #008080; font-weight: bold\">67</span>°F  \n",
       "\n",
       "---\n",
       "\n",
       "### London Hotels\n",
       "Margie’s Travel offers the following accommodation options in London:\n",
       "\n",
       "| Hotel Name             | Description                                                                             \n",
       "|\n",
       "|------------------------|-----------------------------------------------------------------------------------------\n",
       "-----|\n",
       "| **The Buckingham Hotel** | Comfortable hotel close to major sights like Buckingham Palace, Regent’s Park, and \n",
       "Trafalgar Square. |\n",
       "| **The City Hotel**      | Luxury rooms in the city, within walking distance of Tower Bridge and the Tower of \n",
       "London.   |\n",
       "| **The Kensington Hotel** | Budget accommodation near Earl’s Court.                                               \n",
       "|\n",
       "\n",
       "To book your trip to London, visit <span style=\"font-weight: bold\">(</span><span style=\"color: #0000ff; text-decoration-color: #0000ff; text-decoration: underline\">http://www.margiestravel.com)</span>\n",
       "</pre>\n"
      ],
      "text/plain": [
       "\u001b[1;35mExtracted Processed Text:\u001b[0m ## Margie’s Travel Presents… London\n",
       "\n",
       "### About London\n",
       "London is the capital and most populous city of England and the United Kingdom. Standing on the River Thames in the\n",
       "southeast of the island of Great Britain, London has been a major settlement for two millennia. It was founded by \n",
       "the Romans, who named it Londinium.\n",
       "\n",
       "London's ancient core, the City of London, largely retains its \u001b[1;36m1.12\u001b[0m-square-mile medieval boundaries. Since at least\n",
       "the 19th century, London has also referred to the metropolis around this core, historically split between \n",
       "Middlesex, Essex, Surrey, Kent, and Hertfordshire, which today largely makes up Greater London, governed by the \n",
       "Mayor of London and the London Assembly.\n",
       "\n",
       "### Highlights\n",
       "- **Mostly popular for:** Leisure, Outdoors, Historical, Arts & Culture  \n",
       "- **Best time to visit:** June - August  \n",
       "- **Average Precipitation:** \u001b[1;36m1.9\u001b[0m inches  \n",
       "- **Average Temperature:** \u001b[1;36m56\u001b[0m-\u001b[1;36m67\u001b[0m°F  \n",
       "\n",
       "---\n",
       "\n",
       "### London Hotels\n",
       "Margie’s Travel offers the following accommodation options in London:\n",
       "\n",
       "| Hotel Name             | Description                                                                             \n",
       "|\n",
       "|------------------------|-----------------------------------------------------------------------------------------\n",
       "-----|\n",
       "| **The Buckingham Hotel** | Comfortable hotel close to major sights like Buckingham Palace, Regent’s Park, and \n",
       "Trafalgar Square. |\n",
       "| **The City Hotel**      | Luxury rooms in the city, within walking distance of Tower Bridge and the Tower of \n",
       "London.   |\n",
       "| **The Kensington Hotel** | Budget accommodation near Earl’s Court.                                               \n",
       "|\n",
       "\n",
       "To book your trip to London, visit \u001b[1m(\u001b[0m\u001b[4;94mhttp://www.margiestravel.com\u001b[0m\u001b[4;94m)\u001b[0m\n"
      ]
     },
     "metadata": {},
     "output_type": "display_data"
    },
    {
     "name": "stdout",
     "output_type": "stream",
     "text": [
      "Writing file to full path: c:\\Users\\selhousseini\\Documents\\GitHub\\mm_doc_proc\\output_london_4o\\text\\page_1.txt\n",
      "Reading file from path: c:\\Users\\selhousseini\\Documents\\GitHub\\mm_doc_proc\\multimodal_processing_pipeline\\prompts\\image_description_prompt.txt\n",
      "Writing file to full path: c:\\Users\\selhousseini\\Documents\\GitHub\\mm_doc_proc\\output_london_4o\\images\\page_1_photo_1.txt\n",
      "Writing file to full path: c:\\Users\\selhousseini\\Documents\\GitHub\\mm_doc_proc\\output_london_4o\\images\\page_1_photo_2.txt\n"
     ]
    },
    {
     "data": {
      "text/html": [
       "<pre style=\"white-space:pre;overflow-x:auto;line-height:normal;font-family:Menlo,'DejaVu Sans Mono',consolas,'Courier New',monospace\"><span style=\"color: #008080; text-decoration-color: #008080; font-weight: bold\">Extracted Images:</span>\n",
       "<span style=\"font-weight: bold\">[</span>\n",
       "    <span style=\"color: #800080; text-decoration-color: #800080; font-weight: bold\">ExtractedImage</span><span style=\"font-weight: bold\">(</span>\n",
       "        <span style=\"color: #808000; text-decoration-color: #808000\">page_number</span>=<span style=\"color: #008080; text-decoration-color: #008080; font-weight: bold\">1</span>,\n",
       "        <span style=\"color: #808000; text-decoration-color: #808000\">image_path</span>=<span style=\"color: #008000; text-decoration-color: #008000\">'output_london_4o\\\\images\\\\page_1.png'</span>,\n",
       "        <span style=\"color: #808000; text-decoration-color: #808000\">image_type</span>=<span style=\"color: #008000; text-decoration-color: #008000\">'photo'</span>,\n",
       "        <span style=\"color: #808000; text-decoration-color: #808000\">description</span>=<span style=\"color: #008000; text-decoration-color: #008000\">\"This is a photograph showing the Tower Bridge in London with its two towers prominently </span>\n",
       "<span style=\"color: #008000; text-decoration-color: #008000\">displayed. The bridge is partially elevated, showcasing the mechanism that allows ships to pass underneath. The </span>\n",
       "<span style=\"color: #008000; text-decoration-color: #008000\">background is dominated by a cloudy sky.\\n\\nThe photo likely serves to highlight one of London's iconic landmarks, </span>\n",
       "<span style=\"color: #008000; text-decoration-color: #008000\">emphasizing its architectural significance.\\n\\nThe bridge's gothic style and bascule design are visually striking, </span>\n",
       "<span style=\"color: #008000; text-decoration-color: #008000\">making it recognizable as a symbol of London's engineering and culture.\"</span>\n",
       "    <span style=\"font-weight: bold\">)</span>,\n",
       "    <span style=\"color: #800080; text-decoration-color: #800080; font-weight: bold\">ExtractedImage</span><span style=\"font-weight: bold\">(</span>\n",
       "        <span style=\"color: #808000; text-decoration-color: #808000\">page_number</span>=<span style=\"color: #008080; text-decoration-color: #008080; font-weight: bold\">1</span>,\n",
       "        <span style=\"color: #808000; text-decoration-color: #808000\">image_path</span>=<span style=\"color: #008000; text-decoration-color: #008000\">'output_london_4o\\\\images\\\\page_1.png'</span>,\n",
       "        <span style=\"color: #808000; text-decoration-color: #808000\">image_type</span>=<span style=\"color: #008000; text-decoration-color: #008000\">'photo'</span>,\n",
       "        <span style=\"color: #808000; text-decoration-color: #808000\">description</span>=<span style=\"color: #008000; text-decoration-color: #008000\">'This is a photograph of the fountains at Trafalgar Square in London. The water streams </span>\n",
       "<span style=\"color: #008000; text-decoration-color: #008000\">gracefully into the surrounding basins, and the statue of George IV is visible on its pedestal in the distance. </span>\n",
       "<span style=\"color: #008000; text-decoration-color: #008000\">Trees and a classical building are in the background.\\n\\nThis image is meant to showcase another notable location </span>\n",
       "<span style=\"color: #008000; text-decoration-color: #008000\">in London, emphasizing its historical and cultural importance.\\n\\nThe tranquil water features contrast with the </span>\n",
       "<span style=\"color: #008000; text-decoration-color: #008000\">urban surroundings, making it a serene yet dynamic environment close to prominent landmarks.'</span>\n",
       "    <span style=\"font-weight: bold\">)</span>\n",
       "<span style=\"font-weight: bold\">]</span>\n",
       "</pre>\n"
      ],
      "text/plain": [
       "\u001b[1;36mExtracted Images:\u001b[0m\n",
       "\u001b[1m[\u001b[0m\n",
       "    \u001b[1;35mExtractedImage\u001b[0m\u001b[1m(\u001b[0m\n",
       "        \u001b[33mpage_number\u001b[0m=\u001b[1;36m1\u001b[0m,\n",
       "        \u001b[33mimage_path\u001b[0m=\u001b[32m'output_london_4o\\\\images\\\\page_1.png'\u001b[0m,\n",
       "        \u001b[33mimage_type\u001b[0m=\u001b[32m'photo'\u001b[0m,\n",
       "        \u001b[33mdescription\u001b[0m=\u001b[32m\"This\u001b[0m\u001b[32m is a photograph showing the Tower Bridge in London with its two towers prominently \u001b[0m\n",
       "\u001b[32mdisplayed. The bridge is partially elevated, showcasing the mechanism that allows ships to pass underneath. The \u001b[0m\n",
       "\u001b[32mbackground is dominated by a cloudy sky.\\n\\nThe photo likely serves to highlight one of London's iconic landmarks, \u001b[0m\n",
       "\u001b[32memphasizing its architectural significance.\\n\\nThe bridge's gothic style and bascule design are visually striking, \u001b[0m\n",
       "\u001b[32mmaking it recognizable as a symbol of London's engineering and culture.\"\u001b[0m\n",
       "    \u001b[1m)\u001b[0m,\n",
       "    \u001b[1;35mExtractedImage\u001b[0m\u001b[1m(\u001b[0m\n",
       "        \u001b[33mpage_number\u001b[0m=\u001b[1;36m1\u001b[0m,\n",
       "        \u001b[33mimage_path\u001b[0m=\u001b[32m'output_london_4o\\\\images\\\\page_1.png'\u001b[0m,\n",
       "        \u001b[33mimage_type\u001b[0m=\u001b[32m'photo'\u001b[0m,\n",
       "        \u001b[33mdescription\u001b[0m=\u001b[32m'This is a photograph of the fountains at Trafalgar Square in London. The water streams \u001b[0m\n",
       "\u001b[32mgracefully into the surrounding basins, and the statue of George IV is visible on its pedestal in the distance. \u001b[0m\n",
       "\u001b[32mTrees and a classical building are in the background.\\n\\nThis image is meant to showcase another notable location \u001b[0m\n",
       "\u001b[32min London, emphasizing its historical and cultural importance.\\n\\nThe tranquil water features contrast with the \u001b[0m\n",
       "\u001b[32murban surroundings, making it a serene yet dynamic environment close to prominent landmarks.'\u001b[0m\n",
       "    \u001b[1m)\u001b[0m\n",
       "\u001b[1m]\u001b[0m\n"
      ]
     },
     "metadata": {},
     "output_type": "display_data"
    },
    {
     "name": "stdout",
     "output_type": "stream",
     "text": [
      "Reading file from path: c:\\Users\\selhousseini\\Documents\\GitHub\\mm_doc_proc\\multimodal_processing_pipeline\\prompts\\table_description_prompt.txt\n"
     ]
    },
    {
     "data": {
      "text/html": [
       "<pre style=\"white-space:pre;overflow-x:auto;line-height:normal;font-family:Menlo,'DejaVu Sans Mono',consolas,'Courier New',monospace\"><span style=\"color: #008000; text-decoration-color: #008000; font-weight: bold\">Extracted Tables:</span>\n",
       "<span style=\"font-weight: bold\">[]</span>\n",
       "</pre>\n"
      ],
      "text/plain": [
       "\u001b[1;32mExtracted Tables:\u001b[0m\n",
       "\u001b[1m[\u001b[0m\u001b[1m]\u001b[0m\n"
      ]
     },
     "metadata": {},
     "output_type": "display_data"
    },
    {
     "name": "stdout",
     "output_type": "stream",
     "text": [
      "Processing page 2/2...\n",
      "Reading file from path: c:\\Users\\selhousseini\\Documents\\GitHub\\mm_doc_proc\\multimodal_processing_pipeline\\prompts\\process_extracted_text_prompt.txt\n"
     ]
    },
    {
     "data": {
      "text/html": [
       "<pre style=\"white-space:pre;overflow-x:auto;line-height:normal;font-family:Menlo,'DejaVu Sans Mono',consolas,'Courier New',monospace\"><span style=\"color: #800080; text-decoration-color: #800080; font-weight: bold\">Extracted Processed Text:</span> ## Category Information\n",
       "\n",
       "- **Country**: United Kingdom  \n",
       "- **Capital Of**: England  \n",
       "- **Currency**: Pound Sterling <span style=\"font-weight: bold\">(</span>GBP<span style=\"font-weight: bold\">)</span>  \n",
       "- **Population <span style=\"font-weight: bold\">(</span><span style=\"color: #008080; text-decoration-color: #008080; font-weight: bold\">2021</span> census<span style=\"font-weight: bold\">)</span>**: Approximately <span style=\"color: #008080; text-decoration-color: #008080; font-weight: bold\">8.8</span> million  \n",
       "- **Famous For**: Historical landmarks, museums, cultural diversity  \n",
       "</pre>\n"
      ],
      "text/plain": [
       "\u001b[1;35mExtracted Processed Text:\u001b[0m ## Category Information\n",
       "\n",
       "- **Country**: United Kingdom  \n",
       "- **Capital Of**: England  \n",
       "- **Currency**: Pound Sterling \u001b[1m(\u001b[0mGBP\u001b[1m)\u001b[0m  \n",
       "- **Population \u001b[1m(\u001b[0m\u001b[1;36m2021\u001b[0m census\u001b[1m)\u001b[0m**: Approximately \u001b[1;36m8.8\u001b[0m million  \n",
       "- **Famous For**: Historical landmarks, museums, cultural diversity  \n"
      ]
     },
     "metadata": {},
     "output_type": "display_data"
    },
    {
     "name": "stdout",
     "output_type": "stream",
     "text": [
      "Writing file to full path: c:\\Users\\selhousseini\\Documents\\GitHub\\mm_doc_proc\\output_london_4o\\text\\page_2.txt\n",
      "Reading file from path: c:\\Users\\selhousseini\\Documents\\GitHub\\mm_doc_proc\\multimodal_processing_pipeline\\prompts\\image_description_prompt.txt\n"
     ]
    },
    {
     "data": {
      "text/html": [
       "<pre style=\"white-space:pre;overflow-x:auto;line-height:normal;font-family:Menlo,'DejaVu Sans Mono',consolas,'Courier New',monospace\"><span style=\"color: #008080; text-decoration-color: #008080; font-weight: bold\">Extracted Images:</span>\n",
       "<span style=\"font-weight: bold\">[]</span>\n",
       "</pre>\n"
      ],
      "text/plain": [
       "\u001b[1;36mExtracted Images:\u001b[0m\n",
       "\u001b[1m[\u001b[0m\u001b[1m]\u001b[0m\n"
      ]
     },
     "metadata": {},
     "output_type": "display_data"
    },
    {
     "name": "stdout",
     "output_type": "stream",
     "text": [
      "Reading file from path: c:\\Users\\selhousseini\\Documents\\GitHub\\mm_doc_proc\\multimodal_processing_pipeline\\prompts\\table_description_prompt.txt\n",
      "Writing file to full path: c:\\Users\\selhousseini\\Documents\\GitHub\\mm_doc_proc\\output_london_4o\\tables\\page_2_table_1.txt\n"
     ]
    },
    {
     "data": {
      "text/html": [
       "<pre style=\"white-space:pre;overflow-x:auto;line-height:normal;font-family:Menlo,'DejaVu Sans Mono',consolas,'Courier New',monospace\"><span style=\"color: #008000; text-decoration-color: #008000; font-weight: bold\">Extracted Tables:</span>\n",
       "<span style=\"font-weight: bold\">[</span>\n",
       "    <span style=\"color: #800080; text-decoration-color: #800080; font-weight: bold\">ExtractedTable</span><span style=\"font-weight: bold\">(</span>\n",
       "        <span style=\"color: #808000; text-decoration-color: #808000\">page_number</span>=<span style=\"color: #008080; text-decoration-color: #008080; font-weight: bold\">2</span>,\n",
       "        <span style=\"color: #808000; text-decoration-color: #808000\">table_content</span>=<span style=\"color: #008000; text-decoration-color: #008000\">'| Category                 | Information                                     </span>\n",
       "<span style=\"color: #008000; text-decoration-color: #008000\">|\\n|--------------------------|-------------------------------------------------|\\n| Country                 | </span>\n",
       "<span style=\"color: #008000; text-decoration-color: #008000\">United Kingdom                                |\\n| Capital Of              | England                               </span>\n",
       "<span style=\"color: #008000; text-decoration-color: #008000\">|\\n| Currency                | Pound Sterling (GBP)                           |\\n| Population (2021 census) | </span>\n",
       "<span style=\"color: #008000; text-decoration-color: #008000\">Approximately 8.8 million                      |\\n| Famous For              | Historical landmarks, museums, </span>\n",
       "<span style=\"color: #008000; text-decoration-color: #008000\">cultural diversity |'</span>,\n",
       "        <span style=\"color: #808000; text-decoration-color: #808000\">summary</span>=<span style=\"color: #008000; text-decoration-color: #008000\">'This table provides a summarized profile of a specific location, contextualized for an </span>\n",
       "<span style=\"color: #008000; text-decoration-color: #008000\">informational or encyclopedic purpose.\\n\\nThe table lists characteristics of a geographical entity, focusing on </span>\n",
       "<span style=\"color: #008000; text-decoration-color: #008000\">demographic and cultural aspects. Each column header indicates clear categories for description, offering </span>\n",
       "<span style=\"color: #008000; text-decoration-color: #008000\">structured information designed for quick comprehension.'</span>\n",
       "    <span style=\"font-weight: bold\">)</span>\n",
       "<span style=\"font-weight: bold\">]</span>\n",
       "</pre>\n"
      ],
      "text/plain": [
       "\u001b[1;32mExtracted Tables:\u001b[0m\n",
       "\u001b[1m[\u001b[0m\n",
       "    \u001b[1;35mExtractedTable\u001b[0m\u001b[1m(\u001b[0m\n",
       "        \u001b[33mpage_number\u001b[0m=\u001b[1;36m2\u001b[0m,\n",
       "        \u001b[33mtable_content\u001b[0m=\u001b[32m'| Category                 | Information                                     \u001b[0m\n",
       "\u001b[32m|\\n|--------------------------|-------------------------------------------------|\\n| Country                 | \u001b[0m\n",
       "\u001b[32mUnited Kingdom                                |\\n| Capital Of              | England                               \u001b[0m\n",
       "\u001b[32m|\\n| Currency                | Pound Sterling \u001b[0m\u001b[32m(\u001b[0m\u001b[32mGBP\u001b[0m\u001b[32m)\u001b[0m\u001b[32m                           |\\n| Population \u001b[0m\u001b[32m(\u001b[0m\u001b[32m2021 census\u001b[0m\u001b[32m)\u001b[0m\u001b[32m | \u001b[0m\n",
       "\u001b[32mApproximately 8.8 million                      |\\n| Famous For              | Historical landmarks, museums, \u001b[0m\n",
       "\u001b[32mcultural diversity |'\u001b[0m,\n",
       "        \u001b[33msummary\u001b[0m=\u001b[32m'This table provides a summarized profile of a specific location, contextualized for an \u001b[0m\n",
       "\u001b[32minformational or encyclopedic purpose.\\n\\nThe table lists characteristics of a geographical entity, focusing on \u001b[0m\n",
       "\u001b[32mdemographic and cultural aspects. Each column header indicates clear categories for description, offering \u001b[0m\n",
       "\u001b[32mstructured information designed for quick comprehension.'\u001b[0m\n",
       "    \u001b[1m)\u001b[0m\n",
       "\u001b[1m]\u001b[0m\n"
      ]
     },
     "metadata": {},
     "output_type": "display_data"
    },
    {
     "name": "stdout",
     "output_type": "stream",
     "text": [
      "Writing file to full path: c:\\Users\\selhousseini\\Documents\\GitHub\\mm_doc_proc\\output_london_4o\\combined\\page_1_twin.txt\n",
      "Page 1 text twin saved at: output_london_4o\\combined\\page_1_twin.txt\n",
      "Writing file to full path: c:\\Users\\selhousseini\\Documents\\GitHub\\mm_doc_proc\\output_london_4o\\combined\\page_2_twin.txt\n",
      "Page 2 text twin saved at: output_london_4o\\combined\\page_2_twin.txt\n",
      "Writing file to full path: c:\\Users\\selhousseini\\Documents\\GitHub\\mm_doc_proc\\output_london_4o\\combined\\text_twin.md\n",
      "Text twin saved at: output_london_4o\\combined\\text_twin.md\n",
      "Reading file from path: c:\\Users\\selhousseini\\Documents\\GitHub\\mm_doc_proc\\multimodal_processing_pipeline\\prompts\\document_condensation_prompt.txt\n",
      "Writing file to full path: c:\\Users\\selhousseini\\Documents\\GitHub\\mm_doc_proc\\output_london_4o\\combined\\page_1_condensed.md\n",
      "Page 1 condensed text saved at: output_london_4o\\combined\\page_1_condensed.md\n",
      "Reading file from path: c:\\Users\\selhousseini\\Documents\\GitHub\\mm_doc_proc\\multimodal_processing_pipeline\\prompts\\document_condensation_prompt.txt\n",
      "Writing file to full path: c:\\Users\\selhousseini\\Documents\\GitHub\\mm_doc_proc\\output_london_4o\\combined\\page_2_condensed.md\n",
      "Page 2 condensed text saved at: output_london_4o\\combined\\page_2_condensed.md\n",
      "Reading file from path: c:\\Users\\selhousseini\\Documents\\GitHub\\mm_doc_proc\\multimodal_processing_pipeline\\prompts\\document_condensation_prompt.txt\n",
      "Writing file to full path: c:\\Users\\selhousseini\\Documents\\GitHub\\mm_doc_proc\\output_london_4o\\combined\\condensed_text.md\n",
      "Condensed text saved at: output_london_4o\\combined\\condensed_text.md\n"
     ]
    }
   ],
   "source": [
    "# Example usage:\n",
    "pdf_path = \"sample_data/1_London_Brochure.pdf\"\n",
    "output_directory = \"output_london_4o\"\n",
    "\n",
    "document_content = process_document(pdf_path=pdf_path, \n",
    "                                    output_directory=output_directory,\n",
    "                                    multimodal_model=MulitmodalProcessingModelInfo(), \n",
    "                                    text_model=TextProcessingModelnfo())"
   ]
  },
  {
   "cell_type": "code",
   "execution_count": 2,
   "metadata": {},
   "outputs": [
    {
     "name": "stdout",
     "output_type": "stream",
     "text": [
      "Processing page 1/2...\n",
      "Reading file from path: c:\\Users\\selhousseini\\Documents\\GitHub\\mm_doc_proc\\multimodal_processing_pipeline\\prompts\\process_extracted_text_prompt.txt\n"
     ]
    },
    {
     "data": {
      "text/html": [
       "<pre style=\"white-space:pre;overflow-x:auto;line-height:normal;font-family:Menlo,'DejaVu Sans Mono',consolas,'Courier New',monospace\"><span style=\"color: #800080; text-decoration-color: #800080; font-weight: bold\">Extracted Processed Text:</span> ## Margie’s Travel Presents…\n",
       "\n",
       "## London\n",
       "London is the capital and most populous city of England and the United Kingdom. Standing on the River Thames in the\n",
       "south east of the island of Great Britain, London has been a major settlement for two millennia. It was founded by \n",
       "the Romans, who named it Londinium. London’s ancient core, the City of London, largely retains its <span style=\"color: #008080; text-decoration-color: #008080; font-weight: bold\">1.12</span>-square-mile\n",
       "medieval boundaries.\n",
       "\n",
       "Since at least the 19th century, London has also referred to the metropolis around this core, historically split \n",
       "between Middlesex, Essex, Surrey, Kent, and Hertfordshire, which today largely makes up Greater London, governed by\n",
       "the Mayor of London and the London Assembly.\n",
       "\n",
       "## Mostly popular for:\n",
       "Leisure, Outdoors, Historical, Arts  \n",
       "&amp; Culture\n",
       "\n",
       "## Best time to visit:\n",
       "Jun-Aug\n",
       "\n",
       "## Averag Precipitation:\n",
       "<span style=\"color: #008080; text-decoration-color: #008080; font-weight: bold\">1.9</span> in\n",
       "\n",
       "## Average Temperature:\n",
       "<span style=\"color: #008080; text-decoration-color: #008080; font-weight: bold\">56</span>-<span style=\"color: #008080; text-decoration-color: #008080; font-weight: bold\">67</span>°F\n",
       "\n",
       "## London Hotels\n",
       "Margie’s Travel offers the following accommodation options in London:\n",
       "\n",
       "The Buckingham Hotel  \n",
       "Comfortable hotel close to major sights like Buckingham Palace, Regent’s Park, and Trafalgar  \n",
       "Square.\n",
       "\n",
       "The City Hotel  \n",
       "Luxury rooms in the city, within walking distance of Tower Bridge and the Tower of London..\n",
       "\n",
       "The Kensington Hotel  \n",
       "Budget accommodation near Earl’s Court.\n",
       "\n",
       "To book your trip to London, visit www.margiestravel.com\n",
       "</pre>\n"
      ],
      "text/plain": [
       "\u001b[1;35mExtracted Processed Text:\u001b[0m ## Margie’s Travel Presents…\n",
       "\n",
       "## London\n",
       "London is the capital and most populous city of England and the United Kingdom. Standing on the River Thames in the\n",
       "south east of the island of Great Britain, London has been a major settlement for two millennia. It was founded by \n",
       "the Romans, who named it Londinium. London’s ancient core, the City of London, largely retains its \u001b[1;36m1.12\u001b[0m-square-mile\n",
       "medieval boundaries.\n",
       "\n",
       "Since at least the 19th century, London has also referred to the metropolis around this core, historically split \n",
       "between Middlesex, Essex, Surrey, Kent, and Hertfordshire, which today largely makes up Greater London, governed by\n",
       "the Mayor of London and the London Assembly.\n",
       "\n",
       "## Mostly popular for:\n",
       "Leisure, Outdoors, Historical, Arts  \n",
       "& Culture\n",
       "\n",
       "## Best time to visit:\n",
       "Jun-Aug\n",
       "\n",
       "## Averag Precipitation:\n",
       "\u001b[1;36m1.9\u001b[0m in\n",
       "\n",
       "## Average Temperature:\n",
       "\u001b[1;36m56\u001b[0m-\u001b[1;36m67\u001b[0m°F\n",
       "\n",
       "## London Hotels\n",
       "Margie’s Travel offers the following accommodation options in London:\n",
       "\n",
       "The Buckingham Hotel  \n",
       "Comfortable hotel close to major sights like Buckingham Palace, Regent’s Park, and Trafalgar  \n",
       "Square.\n",
       "\n",
       "The City Hotel  \n",
       "Luxury rooms in the city, within walking distance of Tower Bridge and the Tower of London..\n",
       "\n",
       "The Kensington Hotel  \n",
       "Budget accommodation near Earl’s Court.\n",
       "\n",
       "To book your trip to London, visit www.margiestravel.com\n"
      ]
     },
     "metadata": {},
     "output_type": "display_data"
    },
    {
     "name": "stdout",
     "output_type": "stream",
     "text": [
      "Writing file to full path: c:\\Users\\selhousseini\\Documents\\GitHub\\mm_doc_proc\\output_london_o1\\text\\page_1.txt\n",
      "Reading file from path: c:\\Users\\selhousseini\\Documents\\GitHub\\mm_doc_proc\\multimodal_processing_pipeline\\prompts\\image_description_prompt.txt\n",
      "Writing file to full path: c:\\Users\\selhousseini\\Documents\\GitHub\\mm_doc_proc\\output_london_o1\\images\\page_1_photo_1.txt\n",
      "Writing file to full path: c:\\Users\\selhousseini\\Documents\\GitHub\\mm_doc_proc\\output_london_o1\\images\\page_1_photo_2.txt\n"
     ]
    },
    {
     "data": {
      "text/html": [
       "<pre style=\"white-space:pre;overflow-x:auto;line-height:normal;font-family:Menlo,'DejaVu Sans Mono',consolas,'Courier New',monospace\"><span style=\"color: #008080; text-decoration-color: #008080; font-weight: bold\">Extracted Images:</span>\n",
       "<span style=\"font-weight: bold\">[</span>\n",
       "    <span style=\"color: #800080; text-decoration-color: #800080; font-weight: bold\">ExtractedImage</span><span style=\"font-weight: bold\">(</span>\n",
       "        <span style=\"color: #808000; text-decoration-color: #808000\">page_number</span>=<span style=\"color: #008080; text-decoration-color: #008080; font-weight: bold\">1</span>,\n",
       "        <span style=\"color: #808000; text-decoration-color: #808000\">image_path</span>=<span style=\"color: #800080; text-decoration-color: #800080; font-weight: bold\">WindowsPath</span><span style=\"font-weight: bold\">(</span><span style=\"color: #008000; text-decoration-color: #008000\">'output_london_o1/images/page_1.png'</span><span style=\"font-weight: bold\">)</span>,\n",
       "        <span style=\"color: #808000; text-decoration-color: #808000\">image_type</span>=<span style=\"color: #008000; text-decoration-color: #008000\">'photo'</span>,\n",
       "        <span style=\"color: #808000; text-decoration-color: #808000\">description</span>=<span style=\"color: #008000; text-decoration-color: #008000\">'A color photograph showing a large arched bridge spanning a wide river, with two stone towers </span>\n",
       "<span style=\"color: #008000; text-decoration-color: #008000\">connected by blue metal walkways. The bridge deck appears raised in the middle, and the sky above is </span>\n",
       "<span style=\"color: #008000; text-decoration-color: #008000\">cloudy.\\n\\nLikely included to highlight a famous architectural landmark in London, serving as a recognizable symbol</span>\n",
       "<span style=\"color: #008000; text-decoration-color: #008000\">of the city.\\n\\nThe partially raised roadway demonstrates the bridge’s functional drawbridge aspect. The water in </span>\n",
       "<span style=\"color: #008000; text-decoration-color: #008000\">the foreground and the overcast sky lend a characteristic London atmosphere.'</span>\n",
       "    <span style=\"font-weight: bold\">)</span>,\n",
       "    <span style=\"color: #800080; text-decoration-color: #800080; font-weight: bold\">ExtractedImage</span><span style=\"font-weight: bold\">(</span>\n",
       "        <span style=\"color: #808000; text-decoration-color: #808000\">page_number</span>=<span style=\"color: #008080; text-decoration-color: #008080; font-weight: bold\">1</span>,\n",
       "        <span style=\"color: #808000; text-decoration-color: #808000\">image_path</span>=<span style=\"color: #800080; text-decoration-color: #800080; font-weight: bold\">WindowsPath</span><span style=\"font-weight: bold\">(</span><span style=\"color: #008000; text-decoration-color: #008000\">'output_london_o1/images/page_1.png'</span><span style=\"font-weight: bold\">)</span>,\n",
       "        <span style=\"color: #808000; text-decoration-color: #808000\">image_type</span>=<span style=\"color: #008000; text-decoration-color: #008000\">'photo'</span>,\n",
       "        <span style=\"color: #808000; text-decoration-color: #808000\">description</span>=<span style=\"color: #008000; text-decoration-color: #008000\">'A color photograph featuring a prominent fountain in a public square, with water cascading </span>\n",
       "<span style=\"color: #008000; text-decoration-color: #008000\">into a large circular basin. Surrounding sculptures and statues are visible, and nearby buildings form the </span>\n",
       "<span style=\"color: #008000; text-decoration-color: #008000\">backdrop.\\n\\nPossibly included to showcase another iconic city attraction, illustrating notable sites for </span>\n",
       "<span style=\"color: #008000; text-decoration-color: #008000\">visitors.\\n\\nThe fountain’s central position draws attention to the flowing water feature. The presence of statues </span>\n",
       "<span style=\"color: #008000; text-decoration-color: #008000\">and architectural surroundings underscores the square’s cultural and historical significance.'</span>\n",
       "    <span style=\"font-weight: bold\">)</span>\n",
       "<span style=\"font-weight: bold\">]</span>\n",
       "</pre>\n"
      ],
      "text/plain": [
       "\u001b[1;36mExtracted Images:\u001b[0m\n",
       "\u001b[1m[\u001b[0m\n",
       "    \u001b[1;35mExtractedImage\u001b[0m\u001b[1m(\u001b[0m\n",
       "        \u001b[33mpage_number\u001b[0m=\u001b[1;36m1\u001b[0m,\n",
       "        \u001b[33mimage_path\u001b[0m=\u001b[1;35mWindowsPath\u001b[0m\u001b[1m(\u001b[0m\u001b[32m'output_london_o1/images/page_1.png'\u001b[0m\u001b[1m)\u001b[0m,\n",
       "        \u001b[33mimage_type\u001b[0m=\u001b[32m'photo'\u001b[0m,\n",
       "        \u001b[33mdescription\u001b[0m=\u001b[32m'A color photograph showing a large arched bridge spanning a wide river, with two stone towers \u001b[0m\n",
       "\u001b[32mconnected by blue metal walkways. The bridge deck appears raised in the middle, and the sky above is \u001b[0m\n",
       "\u001b[32mcloudy.\\n\\nLikely included to highlight a famous architectural landmark in London, serving as a recognizable symbol\u001b[0m\n",
       "\u001b[32mof the city.\\n\\nThe partially raised roadway demonstrates the bridge’s functional drawbridge aspect. The water in \u001b[0m\n",
       "\u001b[32mthe foreground and the overcast sky lend a characteristic London atmosphere.'\u001b[0m\n",
       "    \u001b[1m)\u001b[0m,\n",
       "    \u001b[1;35mExtractedImage\u001b[0m\u001b[1m(\u001b[0m\n",
       "        \u001b[33mpage_number\u001b[0m=\u001b[1;36m1\u001b[0m,\n",
       "        \u001b[33mimage_path\u001b[0m=\u001b[1;35mWindowsPath\u001b[0m\u001b[1m(\u001b[0m\u001b[32m'output_london_o1/images/page_1.png'\u001b[0m\u001b[1m)\u001b[0m,\n",
       "        \u001b[33mimage_type\u001b[0m=\u001b[32m'photo'\u001b[0m,\n",
       "        \u001b[33mdescription\u001b[0m=\u001b[32m'A color photograph featuring a prominent fountain in a public square, with water cascading \u001b[0m\n",
       "\u001b[32minto a large circular basin. Surrounding sculptures and statues are visible, and nearby buildings form the \u001b[0m\n",
       "\u001b[32mbackdrop.\\n\\nPossibly included to showcase another iconic city attraction, illustrating notable sites for \u001b[0m\n",
       "\u001b[32mvisitors.\\n\\nThe fountain’s central position draws attention to the flowing water feature. The presence of statues \u001b[0m\n",
       "\u001b[32mand architectural surroundings underscores the square’s cultural and historical significance.'\u001b[0m\n",
       "    \u001b[1m)\u001b[0m\n",
       "\u001b[1m]\u001b[0m\n"
      ]
     },
     "metadata": {},
     "output_type": "display_data"
    },
    {
     "name": "stdout",
     "output_type": "stream",
     "text": [
      "Reading file from path: c:\\Users\\selhousseini\\Documents\\GitHub\\mm_doc_proc\\multimodal_processing_pipeline\\prompts\\table_description_prompt.txt\n"
     ]
    },
    {
     "data": {
      "text/html": [
       "<pre style=\"white-space:pre;overflow-x:auto;line-height:normal;font-family:Menlo,'DejaVu Sans Mono',consolas,'Courier New',monospace\"><span style=\"color: #008000; text-decoration-color: #008000; font-weight: bold\">Extracted Tables:</span>\n",
       "<span style=\"font-weight: bold\">[]</span>\n",
       "</pre>\n"
      ],
      "text/plain": [
       "\u001b[1;32mExtracted Tables:\u001b[0m\n",
       "\u001b[1m[\u001b[0m\u001b[1m]\u001b[0m\n"
      ]
     },
     "metadata": {},
     "output_type": "display_data"
    },
    {
     "name": "stdout",
     "output_type": "stream",
     "text": [
      "Processing page 2/2...\n",
      "Reading file from path: c:\\Users\\selhousseini\\Documents\\GitHub\\mm_doc_proc\\multimodal_processing_pipeline\\prompts\\process_extracted_text_prompt.txt\n"
     ]
    },
    {
     "data": {
      "text/html": [
       "<pre style=\"white-space:pre;overflow-x:auto;line-height:normal;font-family:Menlo,'DejaVu Sans Mono',consolas,'Courier New',monospace\"><span style=\"color: #800080; text-decoration-color: #800080; font-weight: bold\">Extracted Processed Text:</span> | Category                  | Information                                    |\n",
       "|---------------------------|-----------------------------------------------|\n",
       "| Country                   | United Kingdom                                |\n",
       "| Capital Of                | England                                       |\n",
       "| Currency                  | Pound Sterling <span style=\"font-weight: bold\">(</span>GBP<span style=\"font-weight: bold\">)</span>                          |\n",
       "| Population <span style=\"font-weight: bold\">(</span><span style=\"color: #008080; text-decoration-color: #008080; font-weight: bold\">2021</span> census<span style=\"font-weight: bold\">)</span>  | Approximately <span style=\"color: #008080; text-decoration-color: #008080; font-weight: bold\">8.8</span> million                     |\n",
       "| Famous For                | Historical landmarks, museums, cultural diversity |\n",
       "</pre>\n"
      ],
      "text/plain": [
       "\u001b[1;35mExtracted Processed Text:\u001b[0m | Category                  | Information                                    |\n",
       "|---------------------------|-----------------------------------------------|\n",
       "| Country                   | United Kingdom                                |\n",
       "| Capital Of                | England                                       |\n",
       "| Currency                  | Pound Sterling \u001b[1m(\u001b[0mGBP\u001b[1m)\u001b[0m                          |\n",
       "| Population \u001b[1m(\u001b[0m\u001b[1;36m2021\u001b[0m census\u001b[1m)\u001b[0m  | Approximately \u001b[1;36m8.8\u001b[0m million                     |\n",
       "| Famous For                | Historical landmarks, museums, cultural diversity |\n"
      ]
     },
     "metadata": {},
     "output_type": "display_data"
    },
    {
     "name": "stdout",
     "output_type": "stream",
     "text": [
      "Writing file to full path: c:\\Users\\selhousseini\\Documents\\GitHub\\mm_doc_proc\\output_london_o1\\text\\page_2.txt\n",
      "Reading file from path: c:\\Users\\selhousseini\\Documents\\GitHub\\mm_doc_proc\\multimodal_processing_pipeline\\prompts\\image_description_prompt.txt\n"
     ]
    },
    {
     "data": {
      "text/html": [
       "<pre style=\"white-space:pre;overflow-x:auto;line-height:normal;font-family:Menlo,'DejaVu Sans Mono',consolas,'Courier New',monospace\"><span style=\"color: #008080; text-decoration-color: #008080; font-weight: bold\">Extracted Images:</span>\n",
       "<span style=\"font-weight: bold\">[]</span>\n",
       "</pre>\n"
      ],
      "text/plain": [
       "\u001b[1;36mExtracted Images:\u001b[0m\n",
       "\u001b[1m[\u001b[0m\u001b[1m]\u001b[0m\n"
      ]
     },
     "metadata": {},
     "output_type": "display_data"
    },
    {
     "name": "stdout",
     "output_type": "stream",
     "text": [
      "Reading file from path: c:\\Users\\selhousseini\\Documents\\GitHub\\mm_doc_proc\\multimodal_processing_pipeline\\prompts\\table_description_prompt.txt\n",
      "Writing file to full path: c:\\Users\\selhousseini\\Documents\\GitHub\\mm_doc_proc\\output_london_o1\\tables\\page_2_table_1.txt\n"
     ]
    },
    {
     "data": {
      "text/html": [
       "<pre style=\"white-space:pre;overflow-x:auto;line-height:normal;font-family:Menlo,'DejaVu Sans Mono',consolas,'Courier New',monospace\"><span style=\"color: #008000; text-decoration-color: #008000; font-weight: bold\">Extracted Tables:</span>\n",
       "<span style=\"font-weight: bold\">[</span>\n",
       "    <span style=\"color: #800080; text-decoration-color: #800080; font-weight: bold\">ExtractedTable</span><span style=\"font-weight: bold\">(</span>\n",
       "        <span style=\"color: #808000; text-decoration-color: #808000\">page_number</span>=<span style=\"color: #008080; text-decoration-color: #008080; font-weight: bold\">2</span>,\n",
       "        <span style=\"color: #808000; text-decoration-color: #808000\">table_content</span>=<span style=\"color: #008000; text-decoration-color: #008000\">'| Category                  | Information                                      </span>\n",
       "<span style=\"color: #008000; text-decoration-color: #008000\">|\\n|---------------------------|--------------------------------------------------|\\n| Country                   | </span>\n",
       "<span style=\"color: #008000; text-decoration-color: #008000\">United Kingdom                                   |\\n| Capital Of                | England                          </span>\n",
       "<span style=\"color: #008000; text-decoration-color: #008000\">|\\n| Currency                  | Pound Sterling (GBP)                             |\\n| Population (2021 census)  | </span>\n",
       "<span style=\"color: #008000; text-decoration-color: #008000\">Approximately 8.8 million                        |\\n| Famous For                | Historical landmarks, museums, </span>\n",
       "<span style=\"color: #008000; text-decoration-color: #008000\">cultural diversity|\\n'</span>,\n",
       "        <span style=\"color: #808000; text-decoration-color: #808000\">summary</span>=<span style=\"color: #008000; text-decoration-color: #008000\">\"Likely included to provide essential factual data about a major city in the broader document </span>\n",
       "<span style=\"color: #008000; text-decoration-color: #008000\">context.\\n\\nPurpose: Presents basic attributes—geographic location, population, currency, and notable features. </span>\n",
       "<span style=\"color: #008000; text-decoration-color: #008000\">Column analysis: 'Category' (text labels) and 'Information' (text details). Row analysis: Each row highlights key </span>\n",
       "<span style=\"color: #008000; text-decoration-color: #008000\">facts (no numeric outliers or patterns). Overall, this reference table quickly conveys foundational information </span>\n",
       "<span style=\"color: #008000; text-decoration-color: #008000\">about the city.\"</span>\n",
       "    <span style=\"font-weight: bold\">)</span>\n",
       "<span style=\"font-weight: bold\">]</span>\n",
       "</pre>\n"
      ],
      "text/plain": [
       "\u001b[1;32mExtracted Tables:\u001b[0m\n",
       "\u001b[1m[\u001b[0m\n",
       "    \u001b[1;35mExtractedTable\u001b[0m\u001b[1m(\u001b[0m\n",
       "        \u001b[33mpage_number\u001b[0m=\u001b[1;36m2\u001b[0m,\n",
       "        \u001b[33mtable_content\u001b[0m=\u001b[32m'| Category                  | Information                                      \u001b[0m\n",
       "\u001b[32m|\\n|---------------------------|--------------------------------------------------|\\n| Country                   | \u001b[0m\n",
       "\u001b[32mUnited Kingdom                                   |\\n| Capital Of                | England                          \u001b[0m\n",
       "\u001b[32m|\\n| Currency                  | Pound Sterling \u001b[0m\u001b[32m(\u001b[0m\u001b[32mGBP\u001b[0m\u001b[32m)\u001b[0m\u001b[32m                             |\\n| Population \u001b[0m\u001b[32m(\u001b[0m\u001b[32m2021 census\u001b[0m\u001b[32m)\u001b[0m\u001b[32m  | \u001b[0m\n",
       "\u001b[32mApproximately 8.8 million                        |\\n| Famous For                | Historical landmarks, museums, \u001b[0m\n",
       "\u001b[32mcultural diversity|\\n'\u001b[0m,\n",
       "        \u001b[33msummary\u001b[0m=\u001b[32m\"Likely\u001b[0m\u001b[32m included to provide essential factual data about a major city in the broader document \u001b[0m\n",
       "\u001b[32mcontext.\\n\\nPurpose: Presents basic attributes—geographic location, population, currency, and notable features. \u001b[0m\n",
       "\u001b[32mColumn analysis: 'Category' \u001b[0m\u001b[32m(\u001b[0m\u001b[32mtext labels\u001b[0m\u001b[32m)\u001b[0m\u001b[32m and 'Information' \u001b[0m\u001b[32m(\u001b[0m\u001b[32mtext details\u001b[0m\u001b[32m)\u001b[0m\u001b[32m. Row analysis: Each row highlights key \u001b[0m\n",
       "\u001b[32mfacts \u001b[0m\u001b[32m(\u001b[0m\u001b[32mno numeric outliers or patterns\u001b[0m\u001b[32m)\u001b[0m\u001b[32m. Overall, this reference table quickly conveys foundational information \u001b[0m\n",
       "\u001b[32mabout the city.\"\u001b[0m\n",
       "    \u001b[1m)\u001b[0m\n",
       "\u001b[1m]\u001b[0m\n"
      ]
     },
     "metadata": {},
     "output_type": "display_data"
    },
    {
     "name": "stdout",
     "output_type": "stream",
     "text": [
      "Writing file to full path: c:\\Users\\selhousseini\\Documents\\GitHub\\mm_doc_proc\\output_london_o1\\combined\\page_1_twin.txt\n",
      "Page 1 text twin saved at: output_london_o1\\combined\\page_1_twin.txt\n",
      "Writing file to full path: c:\\Users\\selhousseini\\Documents\\GitHub\\mm_doc_proc\\output_london_o1\\combined\\page_2_twin.txt\n",
      "Page 2 text twin saved at: output_london_o1\\combined\\page_2_twin.txt\n",
      "Writing file to full path: c:\\Users\\selhousseini\\Documents\\GitHub\\mm_doc_proc\\output_london_o1\\combined\\text_twin.md\n",
      "Text twin saved at: output_london_o1\\combined\\text_twin.md\n",
      "Reading file from path: c:\\Users\\selhousseini\\Documents\\GitHub\\mm_doc_proc\\multimodal_processing_pipeline\\prompts\\document_condensation_prompt.txt\n",
      "Writing file to full path: c:\\Users\\selhousseini\\Documents\\GitHub\\mm_doc_proc\\output_london_o1\\combined\\page_1_condensed.md\n",
      "Page 1 condensed text saved at: output_london_o1\\combined\\page_1_condensed.md\n",
      "Reading file from path: c:\\Users\\selhousseini\\Documents\\GitHub\\mm_doc_proc\\multimodal_processing_pipeline\\prompts\\document_condensation_prompt.txt\n",
      "Writing file to full path: c:\\Users\\selhousseini\\Documents\\GitHub\\mm_doc_proc\\output_london_o1\\combined\\page_2_condensed.md\n",
      "Page 2 condensed text saved at: output_london_o1\\combined\\page_2_condensed.md\n",
      "Reading file from path: c:\\Users\\selhousseini\\Documents\\GitHub\\mm_doc_proc\\multimodal_processing_pipeline\\prompts\\document_condensation_prompt.txt\n",
      "Writing file to full path: c:\\Users\\selhousseini\\Documents\\GitHub\\mm_doc_proc\\output_london_o1\\combined\\condensed_text.md\n",
      "Condensed text saved at: output_london_o1\\combined\\condensed_text.md\n"
     ]
    }
   ],
   "source": [
    "# Example usage:\n",
    "pdf_path = \"sample_data/1_London_Brochure.pdf\"\n",
    "output_directory = \"output_london_o1\"\n",
    "\n",
    "pipeline = PDFIngestionPipeline(\n",
    "    pdf_path=pdf_path, \n",
    "    output_directory=output_directory, \n",
    "    multimodal_model=MulitmodalProcessingModelInfo(model_name=\"o1\", reasoning_efforts=\"high\"), \n",
    "    text_model=TextProcessingModelnfo(model_name=\"o1\", reasoning_efforts=\"high\")\n",
    ")\n",
    "\n",
    "# Process the PDF\n",
    "document_content = pipeline.process_pdf()\n",
    "\n",
    "# Save text twins\n",
    "for page in document_content.pages:\n",
    "    pipeline.save_page_text_twin(page)\n",
    "\n",
    "pipeline.save_text_twin(document_content)    \n",
    "\n",
    "\n",
    "# Condense text twins\n",
    "for page in document_content.pages:\n",
    "    pipeline.condense_page_text(page)\n",
    "\n",
    "pipeline.condense_text(document_content)    \n",
    "\n"
   ]
  },
  {
   "cell_type": "code",
   "execution_count": 3,
   "metadata": {},
   "outputs": [
    {
     "name": "stderr",
     "output_type": "stream",
     "text": [
      "[autoreload of utils.openai_utils failed: Traceback (most recent call last):\n",
      "  File \"c:\\Users\\selhousseini\\.conda\\envs\\lightmmrag\\Lib\\site-packages\\IPython\\extensions\\autoreload.py\", line 276, in check\n",
      "    superreload(m, reload, self.old_objects)\n",
      "  File \"c:\\Users\\selhousseini\\.conda\\envs\\lightmmrag\\Lib\\site-packages\\IPython\\extensions\\autoreload.py\", line 475, in superreload\n",
      "    module = reload(module)\n",
      "             ^^^^^^^^^^^^^^\n",
      "  File \"c:\\Users\\selhousseini\\.conda\\envs\\lightmmrag\\Lib\\importlib\\__init__.py\", line 169, in reload\n",
      "    _bootstrap._exec(spec, module)\n",
      "  File \"<frozen importlib._bootstrap>\", line 621, in _exec\n",
      "  File \"<frozen importlib._bootstrap_external>\", line 940, in exec_module\n",
      "  File \"<frozen importlib._bootstrap>\", line 241, in _call_with_frames_removed\n",
      "  File \"c:\\Users\\selhousseini\\Documents\\GitHub\\mm_doc_proc\\multimodal_processing_pipeline\\utils\\openai_utils.py\", line 66, in <module>\n",
      "    azure_endpoint = get_azure_endpoint(os.getenv('RESOURCE_4O')),\n",
      "                     ^^^^^^^^^^^^^^^^^^^^^^^^^^^^^^^^^^^^^^^^^^^^\n",
      "  File \"c:\\Users\\selhousseini\\Documents\\GitHub\\mm_doc_proc\\multimodal_processing_pipeline\\utils\\openai_utils.py\", line 62, in get_azure_endpoint\n",
      "    return f\"https://{resource}.openai.azure.com\" if not \"https://\" in resource else resource\n",
      "                                                         ^^^^^^^^^^^^^^^^^^^^^^\n",
      "TypeError: argument of type 'NoneType' is not iterable\n",
      "]\n"
     ]
    },
    {
     "data": {
      "text/markdown": [
       "##### --- Page 1 ---\n",
       "\n",
       "# Extracted Text\n",
       "\n",
       "## Margie’s Travel Presents…\n",
       "\n",
       "## London\n",
       "London is the capital and most populous city of England and the United Kingdom. Standing on the River Thames in the south east of the island of Great Britain, London has been a major settlement for two millennia. It was founded by the Romans, who named it Londinium. London’s ancient core, the City of London, largely retains its 1.12-square-mile medieval boundaries.\n",
       "\n",
       "Since at least the 19th century, London has also referred to the metropolis around this core, historically split between Middlesex, Essex, Surrey, Kent, and Hertfordshire, which today largely makes up Greater London, governed by the Mayor of London and the London Assembly.\n",
       "\n",
       "## Mostly popular for:\n",
       "Leisure, Outdoors, Historical, Arts  \n",
       "& Culture\n",
       "\n",
       "## Best time to visit:\n",
       "Jun-Aug\n",
       "\n",
       "## Averag Precipitation:\n",
       "1.9 in\n",
       "\n",
       "## Average Temperature:\n",
       "56-67°F\n",
       "\n",
       "## London Hotels\n",
       "Margie’s Travel offers the following accommodation options in London:\n",
       "\n",
       "The Buckingham Hotel  \n",
       "Comfortable hotel close to major sights like Buckingham Palace, Regent’s Park, and Trafalgar  \n",
       "Square.\n",
       "\n",
       "The City Hotel  \n",
       "Luxury rooms in the city, within walking distance of Tower Bridge and the Tower of London..\n",
       "\n",
       "The Kensington Hotel  \n",
       "Budget accommodation near Earl’s Court.\n",
       "\n",
       "To book your trip to London, visit www.margiestravel.com\n",
       "\n",
       "\n",
       "# Embedded Images:\n",
       "\n",
       "### - Image 0:\n",
       "A color photograph showing a large arched bridge spanning a wide river, with two stone towers connected by blue metal walkways. The bridge deck appears raised in the middle, and the sky above is cloudy.\n",
       "\n",
       "Likely included to highlight a famous architectural landmark in London, serving as a recognizable symbol of the city.\n",
       "\n",
       "The partially raised roadway demonstrates the bridge’s functional drawbridge aspect. The water in the foreground and the overcast sky lend a characteristic London atmosphere.\n",
       "\n",
       "### - Image 1:\n",
       "A color photograph featuring a prominent fountain in a public square, with water cascading into a large circular basin. Surrounding sculptures and statues are visible, and nearby buildings form the backdrop.\n",
       "\n",
       "Possibly included to showcase another iconic city attraction, illustrating notable sites for visitors.\n",
       "\n",
       "The fountain’s central position draws attention to the flowing water feature. The presence of statues and architectural surroundings underscores the square’s cultural and historical significance.\n",
       "\n",
       "<br/>\n",
       "<br/>\n",
       "<img src=\"output_london_o1\\images\\page_1.png\" alt=\"Page Number 1\" width=\"300\" height=\"425\">\n",
       "\n",
       "\n",
       "\n",
       "\n",
       "##### --- Page 2 ---\n",
       "\n",
       "# Extracted Text\n",
       "\n",
       "| Category                  | Information                                    |\n",
       "|---------------------------|-----------------------------------------------|\n",
       "| Country                   | United Kingdom                                |\n",
       "| Capital Of                | England                                       |\n",
       "| Currency                  | Pound Sterling (GBP)                          |\n",
       "| Population (2021 census)  | Approximately 8.8 million                     |\n",
       "| Famous For                | Historical landmarks, museums, cultural diversity |\n",
       "\n",
       "\n",
       "# Tables:\n",
       "\n",
       "### - Table 0:\n",
       "\n",
       "| Category                  | Information                                      |\n",
       "|---------------------------|--------------------------------------------------|\n",
       "| Country                   | United Kingdom                                   |\n",
       "| Capital Of                | England                                          |\n",
       "| Currency                  | Pound Sterling (GBP)                             |\n",
       "| Population (2021 census)  | Approximately 8.8 million                        |\n",
       "| Famous For                | Historical landmarks, museums, cultural diversity|\n",
       "\n",
       "\n",
       "<br/>\n",
       "<br/>\n",
       "<img src=\"output_london_o1\\images\\page_2.png\" alt=\"Page Number 2\" width=\"300\" height=\"425\">\n",
       "\n",
       "\n",
       "\n"
      ],
      "text/plain": [
       "<IPython.core.display.Markdown object>"
      ]
     },
     "metadata": {},
     "output_type": "display_data"
    }
   ],
   "source": [
    "display(Markdown(document_content.full_text))"
   ]
  },
  {
   "cell_type": "code",
   "execution_count": 4,
   "metadata": {},
   "outputs": [
    {
     "data": {
      "text/markdown": [
       "Margie’s Travel Presents…\n",
       "\n",
       "LONDON  \n",
       "London is the capital and most populous city of England and the United Kingdom, standing on the River Thames in southeast Great Britain. It has been a major settlement for two millennia, founded by the Romans as Londinium. London’s ancient core, the City of London, retains its 1.12-square-mile medieval boundaries. Since at least the 19th century, “London” has referred to the surrounding metropolis, historically split among Middlesex, Essex, Surrey, Kent, and Hertfordshire, now forming Greater London, governed by the Mayor of London and the London Assembly.\n",
       "\n",
       "Mostly popular for: Leisure, Outdoors, Historical, Arts & Culture  \n",
       "Best time to visit: Jun–Aug  \n",
       "Average Precipitation: 1.9 in  \n",
       "Average Temperature: 56–67°F  \n",
       "\n",
       "London Hotels (offered by Margie’s Travel):  \n",
       "• The Buckingham Hotel – Comfortable, near Buckingham Palace, Regent’s Park, and Trafalgar Square.  \n",
       "• The City Hotel – Luxury rooms within walking distance of Tower Bridge and the Tower of London.  \n",
       "• The Kensington Hotel – Budget accommodation near Earl’s Court.  \n",
       "\n",
       "To book your trip to London, visit www.margiestravel.com\n",
       "\n",
       "Embedded Images:  \n",
       "• Image 0: Color photograph of a large arched bridge with two stone towers connected by blue metal walkways. The roadway is partially raised over a wide river, under an overcast sky, illustrating its functional drawbridge aspect and a characteristic London atmosphere.  \n",
       "• Image 1: Color photograph of a prominent fountain in a public square, water cascading into a circular basin, surrounded by statues and buildings, highlighting a culturally and historically significant site.\n",
       "\n",
       "TABLE OF KEY DATA:  \n",
       "┌───────────────────────────────┬───────────────────────────────────────────────┐\n",
       "│ Category                      │ Information                                  │\n",
       "├───────────────────────────────┼───────────────────────────────────────────────┤\n",
       "│ Country                       │ United Kingdom                               │\n",
       "│ Capital Of                    │ England                                      │\n",
       "│ Currency                      │ Pound Sterling (GBP)                         │\n",
       "│ Population (2021 census)      │ Approximately 8.8 million                    │\n",
       "│ Famous For                    │ Historical landmarks, museums, cultural      │\n",
       "│                               │ diversity                                    │\n",
       "└───────────────────────────────┴───────────────────────────────────────────────┘"
      ],
      "text/plain": [
       "<IPython.core.display.Markdown object>"
      ]
     },
     "metadata": {},
     "output_type": "display_data"
    }
   ],
   "source": [
    "display(Markdown(document_content.condensed_full_text))"
   ]
  },
  {
   "cell_type": "code",
   "execution_count": 5,
   "metadata": {},
   "outputs": [
    {
     "data": {
      "text/plain": [
       "(716, 479)"
      ]
     },
     "execution_count": 5,
     "metadata": {},
     "output_type": "execute_result"
    }
   ],
   "source": [
    "get_token_count(document_content.full_text), get_token_count(document_content.condensed_full_text)"
   ]
  },
  {
   "cell_type": "code",
   "execution_count": null,
   "metadata": {},
   "outputs": [],
   "source": []
  }
 ],
 "metadata": {
  "kernelspec": {
   "display_name": "lightmmrag",
   "language": "python",
   "name": "python3"
  },
  "language_info": {
   "codemirror_mode": {
    "name": "ipython",
    "version": 3
   },
   "file_extension": ".py",
   "mimetype": "text/x-python",
   "name": "python",
   "nbconvert_exporter": "python",
   "pygments_lexer": "ipython3",
   "version": "3.11.11"
  }
 },
 "nbformat": 4,
 "nbformat_minor": 2
}
